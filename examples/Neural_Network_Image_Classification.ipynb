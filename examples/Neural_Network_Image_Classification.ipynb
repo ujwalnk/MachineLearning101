{
  "nbformat": 4,
  "nbformat_minor": 0,
  "metadata": {
    "colab": {
      "provenance": [],
      "gpuType": "T4",
      "mount_file_id": "1hdEhb_EsphvCBko8ehrn72olQ1oQpWWn",
      "authorship_tag": "ABX9TyO6sK1Ep0hCocJoSdOVUYMP",
      "include_colab_link": true
    },
    "kernelspec": {
      "name": "python3",
      "display_name": "Python 3"
    },
    "language_info": {
      "name": "python"
    },
    "accelerator": "GPU"
  },
  "cells": [
    {
      "cell_type": "markdown",
      "metadata": {
        "id": "view-in-github",
        "colab_type": "text"
      },
      "source": [
        "<a href=\"https://colab.research.google.com/github/ujwalnk/MachineLearning101/blob/main/examples/Neural_Network_Image_Classification.ipynb\" target=\"_parent\"><img src=\"https://colab.research.google.com/assets/colab-badge.svg\" alt=\"Open In Colab\"/></a>"
      ]
    },
    {
      "cell_type": "markdown",
      "source": [
        "- NN requires more data\n",
        "- Called deep learning as they vbecome deepter as the number of hidden layers increase, like a funnel"
      ],
      "metadata": {
        "id": "oxFYqLPfmVNf"
      }
    },
    {
      "cell_type": "code",
      "execution_count": null,
      "metadata": {
        "id": "QV2PWxEbmF9a"
      },
      "outputs": [],
      "source": [
        "from tensorflow.keras.layers import Dense, Conv2D,  MaxPool2D, Flatten\n",
        "import tensorflow as tf\n",
        "import pandas as pd"
      ]
    },
    {
      "cell_type": "markdown",
      "source": [
        "For unzipping Kaggle datasets"
      ],
      "metadata": {
        "id": "cmUyXe3NuEdX"
      }
    },
    {
      "cell_type": "code",
      "source": [
        "import zipfile\n",
        "\n",
        "def unzip_file(filename):\n",
        "  zip_ref = zipfile.ZipFile(filename, 'r')\n",
        "  zip_ref.extractall()\n",
        "  zip_ref.close()"
      ],
      "metadata": {
        "id": "xmkb5r2UuLcN"
      },
      "execution_count": null,
      "outputs": []
    },
    {
      "cell_type": "code",
      "source": [
        "unzip_file(\"archive.zip\")"
      ],
      "metadata": {
        "id": "H7QB8DtavZEq"
      },
      "execution_count": null,
      "outputs": []
    },
    {
      "cell_type": "markdown",
      "source": [
        "# Data Preprocessing"
      ],
      "metadata": {
        "id": "YIdnWykPvdsH"
      }
    },
    {
      "cell_type": "code",
      "source": [
        "import matplotlib.pyplot as pplt\n",
        "pplt.imshow(pplt.imread(\"./shapes/square/101.png\"))\n",
        "# Print to check"
      ],
      "metadata": {
        "colab": {
          "base_uri": "https://localhost:8080/",
          "height": 453
        },
        "id": "B1hKKpaIvzFW",
        "outputId": "e0412ffd-d2c0-4b20-aa3e-4cfaf4861580"
      },
      "execution_count": null,
      "outputs": [
        {
          "output_type": "execute_result",
          "data": {
            "text/plain": [
              "<matplotlib.image.AxesImage at 0x7f49e94d1d50>"
            ]
          },
          "metadata": {},
          "execution_count": 21
        },
        {
          "output_type": "display_data",
          "data": {
            "text/plain": [
              "<Figure size 640x480 with 1 Axes>"
            ],
            "image/png": "[encoded data removed]"
          },
          "metadata": {}
        }
      ]
    },
    {
      "cell_type": "code",
      "source": [
        "from tensorflow.keras.preprocessing.image import ImageDataGenerator as idg"
      ],
      "metadata": {
        "id": "Tpw9hGcewIXk"
      },
      "execution_count": null,
      "outputs": []
    },
    {
      "cell_type": "markdown",
      "source": [
        "> Incase of lack to image data use ImageDataGenerator to generate images, using previous images\n",
        "- Shering the images\n",
        "- Moving around and adding extra blank pixels\n",
        "- Rotating the images\n",
        "- Brightness etc"
      ],
      "metadata": {
        "id": "viA_Mo60whiQ"
      }
    },
    {
      "cell_type": "markdown",
      "source": [
        "## Data Augmentation"
      ],
      "metadata": {
        "id": "rLo98rFHxLNz"
      }
    },
    {
      "cell_type": "markdown",
      "source": [
        "Runs along with the new model, generating data on the fly, cant be visualized or seen on the explorer"
      ],
      "metadata": {
        "id": "MsYraPYwzMNN"
      }
    },
    {
      "cell_type": "code",
      "source": [
        "# 1/255 for rescale as its better to get everything into 0 to 1 range - RGB Value\n",
        "# Smaller number \n",
        "train_data_gen = idg(rescale=1/255, rotation_range=37, width_shift_range=0.10, height_shift_range=0.21, validation_split=0.2)\n",
        "\n",
        "# Reshape every file to target size, better to keep it at 256 or close to 300\n",
        "# Use it for training and not for validation\n",
        "train_data = train_data_gen.flow_from_directory(\"./shapes\", target_size=(256, 256), subset=\"training\") \n",
        "validation_data = train_data_gen.flow_from_directory(\"./shapes\", target_size=(256, 256), subset=\"validation\") "
      ],
      "metadata": {
        "colab": {
          "base_uri": "https://localhost:8080/"
        },
        "id": "0A6LncjBxqQS",
        "outputId": "2a0f8c8f-f03c-4005-8226-28120b899c4d"
      },
      "execution_count": null,
      "outputs": [
        {
          "output_type": "stream",
          "name": "stdout",
          "text": [
            "Found 11968 images belonging to 4 classes.\n",
            "Found 2990 images belonging to 4 classes.\n"
          ]
        }
      ]
    },
    {
      "cell_type": "markdown",
      "source": [
        "Remove some samples from the train set for testing"
      ],
      "metadata": {
        "id": "qi-cNPK5109-"
      }
    },
    {
      "cell_type": "code",
      "source": [
        "!mv shapes/triangle/13.png ./test_data\n",
        "!mv shapes/triangle/130.png ./test_data\n",
        "!mv shapes/triangle/1300.png ./test_data"
      ],
      "metadata": {
        "id": "aim5hyYB0qs4"
      },
      "execution_count": null,
      "outputs": []
    },
    {
      "cell_type": "markdown",
      "source": [
        "# Modelling"
      ],
      "metadata": {
        "id": "KggvLwMx1DUl"
      }
    },
    {
      "cell_type": "markdown",
      "source": [
        "First try - low accuracy"
      ],
      "metadata": {
        "id": "O6UtjcTCGtCQ"
      }
    },
    {
      "cell_type": "code",
      "source": [
        "model_1 = tf.keras.Sequential([\n",
        "    Flatten(),\n",
        "    Dense(10, activation=\"relu\"),\n",
        "    Dense(10, activation=\"relu\"),\n",
        "    Dense(4, activation=\"softmax\")\n",
        "])\n",
        "\n",
        "model_1.compile(loss=tf.keras.losses.CategoricalCrossentropy(),  # Loss function that we want\n",
        "                optimizer=tf.keras.optimizers.Adam(),  # Similar to Gradient Descent\n",
        "                metrics=[\"accuracy\"]) # Metrics to measure\n",
        "\n",
        "history_1 = model_1.fit(train_data, epochs=5, validation_data=validation_data)"
      ],
      "metadata": {
        "colab": {
          "base_uri": "https://localhost:8080/"
        },
        "id": "QSWLCrSL1l3M",
        "outputId": "6f71c1b7-e3f3-4f00-ed5f-fac20d784f1e"
      },
      "execution_count": null,
      "outputs": [
        {
          "output_type": "stream",
          "name": "stdout",
          "text": [
            "Epoch 1/5\n",
            "374/374 [==============================] - 243s 644ms/step - loss: 3.0598 - accuracy: 0.2516 - val_loss: 1.3864 - val_accuracy: 0.2485\n",
            "Epoch 2/5\n",
            "374/374 [==============================] - 237s 634ms/step - loss: 1.3864 - accuracy: 0.2489 - val_loss: 1.3863 - val_accuracy: 0.2515\n",
            "Epoch 3/5\n",
            "374/374 [==============================] - 239s 639ms/step - loss: 1.3864 - accuracy: 0.2515 - val_loss: 1.3863 - val_accuracy: 0.2515\n",
            "Epoch 4/5\n",
            "374/374 [==============================] - 240s 642ms/step - loss: 1.3863 - accuracy: 0.2495 - val_loss: 1.3863 - val_accuracy: 0.2515\n",
            "Epoch 5/5\n",
            "374/374 [==============================] - 240s 641ms/step - loss: 1.3864 - accuracy: 0.2506 - val_loss: 1.3863 - val_accuracy: 0.2515\n"
          ]
        }
      ]
    },
    {
      "cell_type": "code",
      "source": [
        "pd.DataFrame(history_1.history).to_csv(\"model_1_history\")"
      ],
      "metadata": {
        "id": "rWdiyaVECCId"
      },
      "execution_count": null,
      "outputs": []
    },
    {
      "cell_type": "markdown",
      "source": [
        "Plotting the loss metrics curve"
      ],
      "metadata": {
        "id": "FdhJ-vRqBcex"
      }
    },
    {
      "cell_type": "code",
      "source": [
        "pd.DataFrame(history_1.history).plot()"
      ],
      "metadata": {
        "colab": {
          "base_uri": "https://localhost:8080/",
          "height": 449
        },
        "id": "pWA7c6rDBTw5",
        "outputId": "3ae3c156-5648-4c51-cf7e-ea2497dc82bc"
      },
      "execution_count": null,
      "outputs": [
        {
          "output_type": "execute_result",
          "data": {
            "text/plain": [
              "<Axes: >"
            ]
          },
          "metadata": {},
          "execution_count": 34
        },
        {
          "output_type": "display_data",
          "data": {
            "text/plain": [
              "<Figure size 640x480 with 1 Axes>"
            ],
            "image/png": "[encoded data removed]"
          },
          "metadata": {}
        }
      ]
    },
    {
      "cell_type": "markdown",
      "source": [
        "Trial 2 - More layers, higher accuracy"
      ],
      "metadata": {
        "id": "XDTNR1iCGv4U"
      }
    },
    {
      "cell_type": "code",
      "source": [
        "model2 = tf.keras.Sequential([\n",
        "    Conv2D(10, 3, activation=\"relu\"),\n",
        "    Conv2D(10, 3, activation=\"relu\"),\n",
        "    MaxPool2D(2),\n",
        "    Conv2D(10, 3, activation=\"relu\"),\n",
        "    Conv2D(10, 3, activation=\"relu\"),\n",
        "    MaxPool2D(2),\n",
        "    Flatten(),\n",
        "    Dense(10, activation=\"relu\"),\n",
        "    Dense(4, activation=\"softmax\")\n",
        "])\n",
        "\n",
        "model2.compile(loss=tf.keras.losses.CategoricalCrossentropy(),\n",
        "              optimizer=tf.keras.optimizers.Adam(),\n",
        "              metrics=[\"accuracy\"])\n",
        "\n",
        "history2 = model2.fit(train_data,\n",
        "                      epochs=5,\n",
        "                      validation_data=validation_data)"
      ],
      "metadata": {
        "colab": {
          "base_uri": "https://localhost:8080/"
        },
        "id": "4EJ3wOiqBYML",
        "outputId": "e53a4a56-e6d2-4866-fe42-beb7e12b379c"
      },
      "execution_count": null,
      "outputs": [
        {
          "output_type": "stream",
          "name": "stdout",
          "text": [
            "Epoch 1/5\n",
            "374/374 [==============================] - 279s 730ms/step - loss: 0.5839 - accuracy: 0.7314 - val_loss: 0.1579 - val_accuracy: 0.9458\n",
            "Epoch 2/5\n",
            "374/374 [==============================] - 245s 655ms/step - loss: 0.1455 - accuracy: 0.9516 - val_loss: 0.0669 - val_accuracy: 0.9816\n",
            "Epoch 3/5\n",
            "374/374 [==============================] - 247s 662ms/step - loss: 0.1000 - accuracy: 0.9713 - val_loss: 0.0464 - val_accuracy: 0.9853\n",
            "Epoch 4/5\n",
            "374/374 [==============================] - 281s 753ms/step - loss: 0.0322 - accuracy: 0.9901 - val_loss: 0.0136 - val_accuracy: 0.9960\n",
            "Epoch 5/5\n",
            "374/374 [==============================] - 247s 662ms/step - loss: 0.0319 - accuracy: 0.9913 - val_loss: 0.0180 - val_accuracy: 0.9960\n"
          ]
        }
      ]
    },
    {
      "cell_type": "code",
      "source": [
        "pd.DataFrame(history2.history).plot()"
      ],
      "metadata": {
        "colab": {
          "base_uri": "https://localhost:8080/",
          "height": 449
        },
        "id": "tic-Mr8eHRdJ",
        "outputId": "9e948269-45a3-4034-8a77-421733be0c2d"
      },
      "execution_count": null,
      "outputs": [
        {
          "output_type": "execute_result",
          "data": {
            "text/plain": [
              "<Axes: >"
            ]
          },
          "metadata": {},
          "execution_count": 39
        },
        {
          "output_type": "display_data",
          "data": {
            "text/plain": [
              "<Figure size 640x480 with 1 Axes>"
            ],
            "image/png": "[encoded data removed]"
          },
          "metadata": {}
        }
      ]
    },
    {
      "cell_type": "markdown",
      "source": [
        "> both losses and accuraccies should converge independently, if they diverge it means it's an overfit\n",
        "- Underfit: Low accuraccy & High loss"
      ],
      "metadata": {
        "id": "70466XQLHbRq"
      }
    },
    {
      "cell_type": "markdown",
      "source": [
        "Preprocesss image into numbers"
      ],
      "metadata": {
        "id": "fxa91lgcIclN"
      }
    },
    {
      "cell_type": "code",
      "source": [
        "def preproc_img(path):\n",
        "  img = tf.io.read_file(path) #decode_img reads only bin\n",
        "  img = tf.io.decode_image(img) # Converts image to 3D matrix of numbers\n",
        "  if img.shape[-1] == 1:\n",
        "    img = tf.image.grayscale_to_rgb(img) # Convert to RGB cause file is gs but model trained on RGB\n",
        "  img = tf.image.resize(img, [256, 256])/255. # Resize and rescale\n",
        "  return img"
      ],
      "metadata": {
        "id": "TB1FZRAAHsCx"
      },
      "execution_count": null,
      "outputs": []
    },
    {
      "cell_type": "code",
      "source": [
        "import numpy as np\n",
        "\n",
        "img = preproc_img(\"./test_data/1000.png\")\n",
        "print(img.shape)\n",
        "model_output = model2.predict(tf.expand_dims(img, 0))\n",
        "print(model_output)\n",
        "np.argmax(model_output)"
      ],
      "metadata": {
        "colab": {
          "base_uri": "https://localhost:8080/"
        },
        "id": "0UzBg5eSIb3x",
        "outputId": "140416a5-6e4b-46f3-fdd5-f9b94d14de38"
      },
      "execution_count": null,
      "outputs": [
        {
          "output_type": "stream",
          "name": "stdout",
          "text": [
            "(256, 256, 3)\n",
            "1/1 [==============================] - 0s 19ms/step\n",
            "[[9.9999928e-01 6.8465027e-07 1.3748462e-18 1.8264706e-23]]\n"
          ]
        },
        {
          "output_type": "execute_result",
          "data": {
            "text/plain": [
              "0"
            ]
          },
          "metadata": {},
          "execution_count": 78
        }
      ]
    },
    {
      "cell_type": "code",
      "source": [
        "print(img.shape)"
      ],
      "metadata": {
        "colab": {
          "base_uri": "https://localhost:8080/"
        },
        "id": "Cj0_PX7eKKpH",
        "outputId": "847e15da-405c-465d-8216-bca106da6a01"
      },
      "execution_count": null,
      "outputs": [
        {
          "output_type": "stream",
          "name": "stdout",
          "text": [
            "(256, 256, 1)\n"
          ]
        }
      ]
    }
  ]
}